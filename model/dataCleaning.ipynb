{
 "cells": [
  {
   "cell_type": "code",
   "execution_count": 24,
   "metadata": {},
   "outputs": [],
   "source": [
    "import pandas as pd\n",
    "import numpy as np\n",
    "import matplotlib.pyplot as plt\n",
    "\n",
    "import seaborn as sns"
   ]
  },
  {
   "cell_type": "code",
   "execution_count": 25,
   "metadata": {},
   "outputs": [
    {
     "name": "stdout",
     "output_type": "stream",
     "text": [
      "   Year  Month  Day Weekend?    Hour Collision Type         Injury Type  \\\n",
      "0  2015      1    5  Weekday     0.0          2-Car   No injury/unknown   \n",
      "1  2015      1    6  Weekday  1500.0          2-Car   No injury/unknown   \n",
      "2  2015      1    6  Weekend  2300.0          2-Car  Non-incapacitating   \n",
      "3  2015      1    7  Weekend   900.0          2-Car  Non-incapacitating   \n",
      "4  2015      1    7  Weekend  1100.0          2-Car   No injury/unknown   \n",
      "\n",
      "                          Primary Factor      Reported_Location   Latitude  \\\n",
      "0  OTHER (DRIVER) - EXPLAIN IN NARRATIVE             1ST & FESS  39.159207   \n",
      "1                  FOLLOWING TOO CLOSELY          2ND & COLLEGE  39.161440   \n",
      "2              DISREGARD SIGNAL/REG SIGN  BASSWOOD & BLOOMFIELD  39.149780   \n",
      "3          FAILURE TO YIELD RIGHT OF WAY         GATES & JACOBS  39.165655   \n",
      "4          FAILURE TO YIELD RIGHT OF WAY                  W 3RD  39.164848   \n",
      "\n",
      "   Longitude  \n",
      "0 -86.525874  \n",
      "1 -86.534848  \n",
      "2 -86.568890  \n",
      "3 -86.575956  \n",
      "4 -86.579625  \n"
     ]
    }
   ],
   "source": [
    "df_filepath = \"..\\\\dataset\\\\new dataset.xlsx\"\n",
    "df = pd.read_excel(df_filepath)\n",
    "print(df.head())"
   ]
  },
  {
   "cell_type": "markdown",
   "metadata": {},
   "source": [
    "# df Cleaning\n",
    "**Feature Selection**\n",
    "Provided columns are 'Year', 'Month', 'Day', 'Weekend?', 'Hour', 'Collision Type', 'Injury Type','Primary Factor', 'Reported_Location', 'Latitude', 'Longitude'. We drop features that are not useable for our model.\n",
    "\n",
    "**Removing Rows with Empty Values**\n",
    "We will also drop any rows with empty values in the selected features"
   ]
  },
  {
   "cell_type": "code",
   "execution_count": 26,
   "metadata": {
    "scrolled": true
   },
   "outputs": [
    {
     "name": "stdout",
     "output_type": "stream",
     "text": [
      "   Month  Day Weekend?    Hour Collision Type         Injury Type  \\\n",
      "0      1    5  Weekday     0.0          2-Car   No injury/unknown   \n",
      "1      1    6  Weekday  1500.0          2-Car   No injury/unknown   \n",
      "2      1    6  Weekend  2300.0          2-Car  Non-incapacitating   \n",
      "3      1    7  Weekend   900.0          2-Car  Non-incapacitating   \n",
      "4      1    7  Weekend  1100.0          2-Car   No injury/unknown   \n",
      "\n",
      "       Reported_Location   Latitude  Longitude  \n",
      "0             1ST & FESS  39.159207 -86.525874  \n",
      "1          2ND & COLLEGE  39.161440 -86.534848  \n",
      "2  BASSWOOD & BLOOMFIELD  39.149780 -86.568890  \n",
      "3         GATES & JACOBS  39.165655 -86.575956  \n",
      "4                  W 3RD  39.164848 -86.579625  \n"
     ]
    }
   ],
   "source": [
    "df = df.drop(columns=['Primary Factor', 'Year'])\n",
    "df = df.dropna()\n",
    "print(df.head())"
   ]
  },
  {
   "cell_type": "markdown",
   "metadata": {},
   "source": [
    "# Normalizing Data\n",
    "**Normalizing Hours**\n",
    "\n",
    "Disregarding decimal points, Hour values are currently 3-4 characters with the least significant 2 digits being minutes (always 00 in this dataset) and the remaining significant bits denoting hours. We will remove decimal point and remove minutes integers so that the only remaining number is what number hour it is (from 0 to 23)."
   ]
  },
  {
   "cell_type": "code",
   "execution_count": 27,
   "metadata": {},
   "outputs": [],
   "source": [
    "# We must normalize all values in hour column such that it is 4 integers indicating the format (HH:MM)\n",
    "df['Hour'] = df['Hour'].astype(int).astype(str).str.zfill(4)\n",
    "\n",
    "# get just the HH values (indicates which of the 24 buckets the value goes into)\n",
    "df['Hour'] = df['Hour'].str[:2].astype(int)"
   ]
  },
  {
   "cell_type": "markdown",
   "metadata": {},
   "source": [
    "**Encoding Weekend**\n",
    "\n",
    "Encode \"yes weekend\" to 1 and \"no weekend\" to 0 so we can use this feature in our neural network"
   ]
  },
  {
   "cell_type": "code",
   "execution_count": 28,
   "metadata": {},
   "outputs": [
    {
     "name": "stdout",
     "output_type": "stream",
     "text": [
      "   Month  Day  Weekend?  Hour Collision Type         Injury Type  \\\n",
      "0      1    5         0     0          2-Car   No injury/unknown   \n",
      "1      1    6         0    15          2-Car   No injury/unknown   \n",
      "2      1    6         1    23          2-Car  Non-incapacitating   \n",
      "3      1    7         1     9          2-Car  Non-incapacitating   \n",
      "4      1    7         1    11          2-Car   No injury/unknown   \n",
      "\n",
      "       Reported_Location   Latitude  Longitude  \n",
      "0             1ST & FESS  39.159207 -86.525874  \n",
      "1          2ND & COLLEGE  39.161440 -86.534848  \n",
      "2  BASSWOOD & BLOOMFIELD  39.149780 -86.568890  \n",
      "3         GATES & JACOBS  39.165655 -86.575956  \n",
      "4                  W 3RD  39.164848 -86.579625  \n"
     ]
    }
   ],
   "source": [
    "weekend_mapping = {'Weekday':0, 'Weekend':1}\n",
    "df['Weekend?'] = df['Weekend?'].replace(weekend_mapping)\n",
    "print(df.head())"
   ]
  },
  {
   "cell_type": "markdown",
   "metadata": {},
   "source": [
    "**Encoding Injury**\n",
    "\n",
    "Encode there being an injury to a 1 and no injury to a 0 so we can classify if there's likely an injury."
   ]
  },
  {
   "cell_type": "code",
   "execution_count": 29,
   "metadata": {},
   "outputs": [],
   "source": [
    "injury_mapping = {'No injury/unknown' : 0,\n",
    "                  'Non-incapacitating' : 1,\n",
    "                  'Incapacitating': 2,\n",
    "                  'Fatal' : 3}\n",
    "df['Injury Type'] = df['Injury Type'].replace(injury_mapping)"
   ]
  },
  {
   "cell_type": "markdown",
   "metadata": {},
   "source": [
    "**Encoding Collision Type**"
   ]
  },
  {
   "cell_type": "code",
   "execution_count": 30,
   "metadata": {},
   "outputs": [
    {
     "name": "stdout",
     "output_type": "stream",
     "text": [
      "['2-Car' '1-Car' '3+ Cars' 'Pedestrian' 'Cyclist' 'Bus' 'Moped/Motorcycle']\n"
     ]
    }
   ],
   "source": [
    "print(df['Collision Type'].unique())\n",
    "\n",
    "# numbering chosen in order of, intuitively, most dangerous to least\n",
    "collision_encoding = {'2-Car' : 4,\n",
    "                      '1-Car' : 5,\n",
    "                      '3+ Cars' : 3,\n",
    "                      'Pedestrian' : 0,\n",
    "                      'Cyclist' : 1,\n",
    "                      'Bus' : 6,\n",
    "                      'Moped/Motorcycle' : 2}\n",
    "df['Collision Type'] = df['Collision Type'].replace(collision_encoding)"
   ]
  },
  {
   "cell_type": "markdown",
   "metadata": {},
   "source": [
    "# Finding Outliers"
   ]
  },
  {
   "cell_type": "code",
   "execution_count": 31,
   "metadata": {},
   "outputs": [
    {
     "data": {
      "image/png": "[encoded data removed]",
      "text/plain": [
       "<Figure size 1000x500 with 1 Axes>"
      ]
     },
     "metadata": {},
     "output_type": "display_data"
    },
    {
     "name": "stdout",
     "output_type": "stream",
     "text": [
      "0.0 41.22866547\n"
     ]
    },
    {
     "data": {
      "image/png": "[encoded data removed]",
      "text/plain": [
       "<Figure size 1000x500 with 1 Axes>"
      ]
     },
     "metadata": {},
     "output_type": "display_data"
    },
    {
     "name": "stdout",
     "output_type": "stream",
     "text": [
      "0.0 41.22866547\n"
     ]
    }
   ],
   "source": [
    "fig = plt.figure(figsize=(10,5))\n",
    "sns.boxplot(x = df['Latitude'], flierprops = dict(markerfacecolor = 'orange', marker = 'o'))\n",
    "plt.title('Box Plot', fontsize=15)\n",
    "plt.xlabel('Latitude', fontsize=14)\n",
    "plt.show()\n",
    "\n",
    "print(df['Latitude'].min(), df['Latitude'].max())\n",
    "\n",
    "fig = plt.figure(figsize=(10,5))\n",
    "sns.boxplot(x = df['Longitude'], flierprops = dict(markerfacecolor = 'orange', marker = 'o'))\n",
    "plt.title('Box Plot', fontsize=15)\n",
    "plt.xlabel('Latitude', fontsize=14)\n",
    "plt.show()\n",
    "print(df['Latitude'].min(), df['Latitude'].max())"
   ]
  },
  {
   "cell_type": "code",
   "execution_count": 32,
   "metadata": {},
   "outputs": [
    {
     "name": "stdout",
     "output_type": "stream",
     "text": [
      "(53654, 9)\n",
      "(48775, 9)\n"
     ]
    }
   ],
   "source": [
    "mean_longitude = df['Longitude'].mean()\n",
    "std_longitude = df['Longitude'].std()\n",
    "threshold = 2 * std_longitude\n",
    "\n",
    "# Create a boolean mask to identify rows where \"Longitude\" is within the threshold\n",
    "mask = (df['Longitude'] >= (mean_longitude - threshold)) & (df['Longitude'] <= (mean_longitude + threshold))\n",
    "# apply mask\n",
    "filtered_df = df[mask]\n",
    "\n",
    "mean_latitude = df['Latitude'].mean()\n",
    "std_latitude = df['Latitude'].std()\n",
    "threshold = 2 * std_latitude\n",
    "\n",
    "# Create a boolean mask to identify rows where \"Longitude\" is within the threshold\n",
    "mask = (filtered_df['Latitude'] >= (mean_latitude - threshold)) & (filtered_df['Latitude'] <= (mean_latitude + threshold))\n",
    "# apply mask\n",
    "filtered_df = filtered_df[mask]\n",
    "\n",
    "print(df.shape)\n",
    "# Print the filtered DataFrame\n",
    "print(filtered_df.shape)"
   ]
  },
  {
   "cell_type": "code",
   "execution_count": 34,
   "metadata": {},
   "outputs": [
    {
     "data": {
      "image/png": "[encoded data removed]",
      "text/plain": [
       "<Figure size 1000x500 with 1 Axes>"
      ]
     },
     "metadata": {},
     "output_type": "display_data"
    },
    {
     "name": "stdout",
     "output_type": "stream",
     "text": [
      "38.01932812 41.22866547\n"
     ]
    },
    {
     "data": {
      "image/png": "[encoded data removed]",
      "text/plain": [
       "<Figure size 1000x500 with 1 Axes>"
      ]
     },
     "metadata": {},
     "output_type": "display_data"
    },
    {
     "name": "stdout",
     "output_type": "stream",
     "text": [
      "38.01932812 41.22866547\n"
     ]
    }
   ],
   "source": [
    "fig = plt.figure(figsize=(10,5))\n",
    "sns.boxplot(x = filtered_df['Latitude'], flierprops = dict(markerfacecolor = 'orange', marker = 'o'))\n",
    "plt.title('Box Plot', fontsize=15)\n",
    "plt.xlabel('Latitude', fontsize=14)\n",
    "plt.show()\n",
    "\n",
    "print(filtered_df['Latitude'].min(), filtered_df['Latitude'].max())\n",
    "\n",
    "fig = plt.figure(figsize=(10,5))\n",
    "sns.boxplot(x = filtered_df['Longitude'], flierprops = dict(markerfacecolor = 'orange', marker = 'o'))\n",
    "plt.title('Box Plot', fontsize=15)\n",
    "plt.xlabel('Latitude', fontsize=14)\n",
    "plt.show()\n",
    "print(filtered_df['Latitude'].min(), filtered_df['Latitude'].max())"
   ]
  },
  {
   "cell_type": "markdown",
   "metadata": {},
   "source": [
    "# Save Modified Data\n",
    "\n",
    "Will save modified data to a CSV file for use by our model"
   ]
  },
  {
   "cell_type": "code",
   "execution_count": 33,
   "metadata": {},
   "outputs": [],
   "source": [
    "filtered_df.to_csv('.\\\\modified_data\\\\cleaned_data.csv', index=False)"
   ]
  },
  {
   "cell_type": "code",
   "execution_count": null,
   "metadata": {},
   "outputs": [],
   "source": []
  }
 ],
 "metadata": {
  "kernelspec": {
   "display_name": "Python 3 (ipykernel)",
   "language": "python",
   "name": "python3"
  },
  "language_info": {
   "codemirror_mode": {
    "name": "ipython",
    "version": 3
   },
   "file_extension": ".py",
   "mimetype": "text/x-python",
   "name": "python",
   "nbconvert_exporter": "python",
   "pygments_lexer": "ipython3",
   "version": "3.12.0"
  },
  "vscode": {
   "interpreter": {
    "hash": "f1062708a37074d70712b695aadee582e0b0b9f95f45576b5521424137d05fec"
   }
  }
 },
 "nbformat": 4,
 "nbformat_minor": 2
}
