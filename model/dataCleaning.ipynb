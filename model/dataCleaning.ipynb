{
 "cells": [
  {
   "cell_type": "code",
   "execution_count": 1,
   "metadata": {},
   "outputs": [],
   "source": [
    "import pandas as pd\n",
    "import numpy as np\n",
    "import matplotlib.pyplot as plt\n",
    "\n",
    "import seaborn as sns"
   ]
  },
  {
   "cell_type": "code",
   "execution_count": 2,
   "metadata": {},
   "outputs": [
    {
     "name": "stdout",
     "output_type": "stream",
     "text": [
      "   Year  Month  Day Weekend?    Hour Collision Type         Injury Type  \\\n",
      "0  2015      1    5  Weekday     0.0          2-Car   No injury/unknown   \n",
      "1  2015      1    6  Weekday  1500.0          2-Car   No injury/unknown   \n",
      "2  2015      1    6  Weekend  2300.0          2-Car  Non-incapacitating   \n",
      "3  2015      1    7  Weekend   900.0          2-Car  Non-incapacitating   \n",
      "4  2015      1    7  Weekend  1100.0          2-Car   No injury/unknown   \n",
      "\n",
      "                          Primary Factor      Reported_Location   Latitude  \\\n",
      "0  OTHER (DRIVER) - EXPLAIN IN NARRATIVE             1ST & FESS  39.159207   \n",
      "1                  FOLLOWING TOO CLOSELY          2ND & COLLEGE  39.161440   \n",
      "2              DISREGARD SIGNAL/REG SIGN  BASSWOOD & BLOOMFIELD  39.149780   \n",
      "3          FAILURE TO YIELD RIGHT OF WAY         GATES & JACOBS  39.165655   \n",
      "4          FAILURE TO YIELD RIGHT OF WAY                  W 3RD  39.164848   \n",
      "\n",
      "   Longitude  \n",
      "0 -86.525874  \n",
      "1 -86.534848  \n",
      "2 -86.568890  \n",
      "3 -86.575956  \n",
      "4 -86.579625  \n"
     ]
    }
   ],
   "source": [
    "df_filepath = \"..\\\\dataset\\\\new dataset.xlsx\"\n",
    "og_df = pd.read_excel(df_filepath)\n",
    "print(og_df.head())"
   ]
  },
  {
   "cell_type": "markdown",
   "metadata": {},
   "source": [
    "# df Cleaning\n",
    "**Feature Selection**\n",
    "Provided columns are 'Year', 'Month', 'Day', 'Weekend?', 'Hour', 'Collision Type', 'Injury Type','Primary Factor', 'Reported_Location', 'Latitude', 'Longitude'. We will drop 'Collision Type', 'Injury Type', and 'Primary Factor' since these values will not help us determine whether or not an accident will happen (because these features only exist in the case that an accident does occur). We will also drop 'Year' since we want our model to generalize to any given year.\n",
    "\n",
    "**Removing Rows with Empty Values**\n",
    "We will also drop any rows with empty values in the selected features"
   ]
  },
  {
   "cell_type": "code",
   "execution_count": 7,
   "metadata": {
    "scrolled": true
   },
   "outputs": [
    {
     "name": "stdout",
     "output_type": "stream",
     "text": [
      "   Month  Day Weekend?    Hour      Reported_Location   Latitude  Longitude\n",
      "0      1    5  Weekday     0.0             1ST & FESS  39.159207 -86.525874\n",
      "1      1    6  Weekday  1500.0          2ND & COLLEGE  39.161440 -86.534848\n",
      "2      1    6  Weekend  2300.0  BASSWOOD & BLOOMFIELD  39.149780 -86.568890\n",
      "3      1    7  Weekend   900.0         GATES & JACOBS  39.165655 -86.575956\n",
      "4      1    7  Weekend  1100.0                  W 3RD  39.164848 -86.579625\n"
     ]
    }
   ],
   "source": [
    "df = og_df.drop(columns=['Year', 'Primary Factor', 'Collision Type', 'Injury Type'])\n",
    "df = df.dropna()\n",
    "print(df.head())"
   ]
  },
  {
   "cell_type": "markdown",
   "metadata": {},
   "source": [
    "# Normalizing Data\n",
    "**Normalizing Hours**\n",
    "\n",
    "Disregarding decimal points, Hour values are currently 3-4 characters with the least significant 2 digits being minutes (always 00 in this dataset) and the remaining significant bits denoting hours. We will remove decimal point and remove minutes integers so that the only remaining number is what number hour it is (from 0 to 23)."
   ]
  },
  {
   "cell_type": "code",
   "execution_count": 8,
   "metadata": {},
   "outputs": [
    {
     "name": "stdout",
     "output_type": "stream",
     "text": [
      "       Month  Day Weekend?  Hour      Reported_Location   Latitude  Longitude\n",
      "0          1    5  Weekday     0             1ST & FESS  39.159207 -86.525874\n",
      "1          1    6  Weekday    15          2ND & COLLEGE  39.161440 -86.534848\n",
      "2          1    6  Weekend    23  BASSWOOD & BLOOMFIELD  39.149780 -86.568890\n",
      "3          1    7  Weekend     9         GATES & JACOBS  39.165655 -86.575956\n",
      "4          1    7  Weekend    11                  W 3RD  39.164848 -86.579625\n",
      "...      ...  ...      ...   ...                    ...        ...        ...\n",
      "53938     10    6  Weekday    17  DUNN & WHITE LOT WEST   0.000000   0.000000\n",
      "53939     11    3  Weekday     8        RED OAK & SR446   0.000000   0.000000\n",
      "53940     12    5  Weekday    12        2ND ST & WALNUT   0.000000   0.000000\n",
      "53941     12    1  Weekend     7         NINETH & NORTH   0.000000   0.000000\n",
      "53942     12    7  Weekend    17      MONROW & THIRD ST   0.000000   0.000000\n",
      "\n",
      "[53660 rows x 7 columns]\n"
     ]
    }
   ],
   "source": [
    "# We must normalize all values in hour column such that it is 4 integers indicating the format (HH:MM)\n",
    "df['Hour'] = df['Hour'].astype(int).astype(str).str.zfill(4)\n",
    "\n",
    "# get just the HH values (indicates which of the 24 buckets the value goes into)\n",
    "df['Hour'] = df['Hour'].str[:2].astype(int)\n",
    "\n",
    "print(df)"
   ]
  },
  {
   "cell_type": "markdown",
   "metadata": {},
   "source": [
    "**Encoding Weekend**\n",
    "\n",
    "Encode \"yes weekend\" to 1 and \"no weekend\" to 0 so we can use this feature in our neural network"
   ]
  },
  {
   "cell_type": "code",
   "execution_count": 9,
   "metadata": {},
   "outputs": [
    {
     "name": "stdout",
     "output_type": "stream",
     "text": [
      "       Month  Day  Hour      Reported_Location   Latitude  Longitude  \\\n",
      "0          1    5     0             1ST & FESS  39.159207 -86.525874   \n",
      "1          1    6    15          2ND & COLLEGE  39.161440 -86.534848   \n",
      "2          1    6    23  BASSWOOD & BLOOMFIELD  39.149780 -86.568890   \n",
      "3          1    7     9         GATES & JACOBS  39.165655 -86.575956   \n",
      "4          1    7    11                  W 3RD  39.164848 -86.579625   \n",
      "...      ...  ...   ...                    ...        ...        ...   \n",
      "53938     10    6    17  DUNN & WHITE LOT WEST   0.000000   0.000000   \n",
      "53939     11    3     8        RED OAK & SR446   0.000000   0.000000   \n",
      "53940     12    5    12        2ND ST & WALNUT   0.000000   0.000000   \n",
      "53941     12    1     7         NINETH & NORTH   0.000000   0.000000   \n",
      "53942     12    7    17      MONROW & THIRD ST   0.000000   0.000000   \n",
      "\n",
      "       weekend?_Weekday  weekend?_Weekend  \n",
      "0                     1                 0  \n",
      "1                     1                 0  \n",
      "2                     0                 1  \n",
      "3                     0                 1  \n",
      "4                     0                 1  \n",
      "...                 ...               ...  \n",
      "53938                 1                 0  \n",
      "53939                 1                 0  \n",
      "53940                 1                 0  \n",
      "53941                 0                 1  \n",
      "53942                 0                 1  \n",
      "\n",
      "[53660 rows x 8 columns]\n"
     ]
    }
   ],
   "source": [
    "# One-hot encode the 'weekend' variable\n",
    "one_hot_encoded = pd.get_dummies(df['Weekend?'], prefix='weekend?').astype(int)\n",
    "\n",
    "# Concatenate the one-hot encoded columns with the original DataFrame\n",
    "df = pd.concat([df, one_hot_encoded], axis=1)\n",
    "\n",
    "# Drop the original 'weekend' column if needed\n",
    "df.drop('Weekend?', axis=1, inplace=True)\n",
    "\n",
    "print(df)"
   ]
  },
  {
   "cell_type": "markdown",
   "metadata": {},
   "source": [
    "# Finding Outliers"
   ]
  },
  {
   "cell_type": "code",
   "execution_count": 10,
   "metadata": {},
   "outputs": [
    {
     "data": {
      "image/png": "[encoded data removed]",
      "text/plain": [
       "<Figure size 1000x500 with 1 Axes>"
      ]
     },
     "metadata": {},
     "output_type": "display_data"
    },
    {
     "name": "stdout",
     "output_type": "stream",
     "text": [
      "0.0 41.22866547\n"
     ]
    },
    {
     "data": {
      "image/png": "[encoded data removed]",
      "text/plain": [
       "<Figure size 1000x500 with 1 Axes>"
      ]
     },
     "metadata": {},
     "output_type": "display_data"
    },
    {
     "name": "stdout",
     "output_type": "stream",
     "text": [
      "0.0 41.22866547\n"
     ]
    }
   ],
   "source": [
    "fig = plt.figure(figsize=(10,5))\n",
    "sns.boxplot(x = df['Latitude'], flierprops = dict(markerfacecolor = 'orange', marker = 'o'))\n",
    "plt.title('Box Plot', fontsize=15)\n",
    "plt.xlabel('Latitude', fontsize=14)\n",
    "plt.show()\n",
    "\n",
    "print(df['Latitude'].min(), df['Latitude'].max())\n",
    "\n",
    "fig = plt.figure(figsize=(10,5))\n",
    "sns.boxplot(x = df['Longitude'], flierprops = dict(markerfacecolor = 'orange', marker = 'o'))\n",
    "plt.title('Box Plot', fontsize=15)\n",
    "plt.xlabel('Latitude', fontsize=14)\n",
    "plt.show()\n",
    "print(df['Latitude'].min(), df['Latitude'].max())"
   ]
  },
  {
   "cell_type": "code",
   "execution_count": 12,
   "metadata": {},
   "outputs": [
    {
     "name": "stdout",
     "output_type": "stream",
     "text": [
      "(53660, 8)\n",
      "(48781, 8)\n"
     ]
    }
   ],
   "source": [
    "mean_longitude = df['Longitude'].mean()\n",
    "std_longitude = df['Longitude'].std()\n",
    "threshold = 2 * std_longitude\n",
    "\n",
    "# Create a boolean mask to identify rows where \"Longitude\" is within the threshold\n",
    "mask = (df['Longitude'] >= (mean_longitude - threshold)) & (df['Longitude'] <= (mean_longitude + threshold))\n",
    "# apply mask\n",
    "filtered_df = df[mask]\n",
    "\n",
    "mean_latitude = df['Latitude'].mean()\n",
    "std_latitude = df['Latitude'].std()\n",
    "threshold = 2 * std_latitude\n",
    "\n",
    "# Create a boolean mask to identify rows where \"Longitude\" is within the threshold\n",
    "mask = (filtered_df['Latitude'] >= (mean_latitude - threshold)) & (filtered_df['Latitude'] <= (mean_latitude + threshold))\n",
    "# apply mask\n",
    "filtered_df = filtered_df[mask]\n",
    "\n",
    "print(df.shape)\n",
    "# Print the filtered DataFrame\n",
    "print(filtered_df.shape)"
   ]
  },
  {
   "cell_type": "code",
   "execution_count": 13,
   "metadata": {},
   "outputs": [
    {
     "data": {
      "image/png": "[encoded data removed]",
      "text/plain": [
       "<Figure size 1000x500 with 1 Axes>"
      ]
     },
     "metadata": {},
     "output_type": "display_data"
    },
    {
     "name": "stdout",
     "output_type": "stream",
     "text": [
      "38.01932812 41.22866547\n"
     ]
    },
    {
     "data": {
      "image/png": "[encoded data removed]",
      "text/plain": [
       "<Figure size 1000x500 with 1 Axes>"
      ]
     },
     "metadata": {},
     "output_type": "display_data"
    },
    {
     "name": "stdout",
     "output_type": "stream",
     "text": [
      "38.01932812 41.22866547\n"
     ]
    }
   ],
   "source": [
    "fig = plt.figure(figsize=(10,5))\n",
    "sns.boxplot(x = filtered_df['Latitude'], flierprops = dict(markerfacecolor = 'orange', marker = 'o'))\n",
    "plt.title('Box Plot', fontsize=15)\n",
    "plt.xlabel('Latitude', fontsize=14)\n",
    "plt.show()\n",
    "\n",
    "print(filtered_df['Latitude'].min(), filtered_df['Latitude'].max())\n",
    "\n",
    "fig = plt.figure(figsize=(10,5))\n",
    "sns.boxplot(x = filtered_df['Longitude'], flierprops = dict(markerfacecolor = 'orange', marker = 'o'))\n",
    "plt.title('Box Plot', fontsize=15)\n",
    "plt.xlabel('Latitude', fontsize=14)\n",
    "plt.show()\n",
    "print(filtered_df['Latitude'].min(), filtered_df['Latitude'].max())"
   ]
  },
  {
   "cell_type": "markdown",
   "metadata": {},
   "source": [
    "# Save Modified Data\n",
    "\n",
    "Will save modified data to a CSV file for use by our model"
   ]
  },
  {
   "cell_type": "code",
   "execution_count": 14,
   "metadata": {},
   "outputs": [],
   "source": [
    "filtered_df.to_csv('.\\\\modified_data\\\\cleaned_data.csv', index=False)"
   ]
  },
  {
   "cell_type": "code",
   "execution_count": null,
   "metadata": {},
   "outputs": [],
   "source": []
  }
 ],
 "metadata": {
  "kernelspec": {
   "display_name": "Python 3 (ipykernel)",
   "language": "python",
   "name": "python3"
  },
  "language_info": {
   "codemirror_mode": {
    "name": "ipython",
    "version": 3
   },
   "file_extension": ".py",
   "mimetype": "text/x-python",
   "name": "python",
   "nbconvert_exporter": "python",
   "pygments_lexer": "ipython3",
   "version": "3.12.0"
  },
  "vscode": {
   "interpreter": {
    "hash": "f1062708a37074d70712b695aadee582e0b0b9f95f45576b5521424137d05fec"
   }
  }
 },
 "nbformat": 4,
 "nbformat_minor": 2
}
