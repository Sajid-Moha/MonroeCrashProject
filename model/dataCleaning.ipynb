{
 "cells": [
  {
   "cell_type": "code",
   "execution_count": 13,
   "metadata": {},
   "outputs": [],
   "source": [
    "import pandas\n",
    "import matplotlib.pyplot as plt"
   ]
  },
  {
   "cell_type": "code",
   "execution_count": 14,
   "metadata": {},
   "outputs": [
    {
     "name": "stdout",
     "output_type": "stream",
     "text": [
      "   Year  Month  Day Weekend?    Hour Collision Type         Injury Type  \\\n",
      "0  2015      1    5  Weekday     0.0          2-Car   No injury/unknown   \n",
      "1  2015      1    6  Weekday  1500.0          2-Car   No injury/unknown   \n",
      "2  2015      1    6  Weekend  2300.0          2-Car  Non-incapacitating   \n",
      "3  2015      1    7  Weekend   900.0          2-Car  Non-incapacitating   \n",
      "4  2015      1    7  Weekend  1100.0          2-Car   No injury/unknown   \n",
      "\n",
      "                          Primary Factor      Reported_Location   Latitude  \\\n",
      "0  OTHER (DRIVER) - EXPLAIN IN NARRATIVE             1ST & FESS  39.159207   \n",
      "1                  FOLLOWING TOO CLOSELY          2ND & COLLEGE  39.161440   \n",
      "2              DISREGARD SIGNAL/REG SIGN  BASSWOOD & BLOOMFIELD  39.149780   \n",
      "3          FAILURE TO YIELD RIGHT OF WAY         GATES & JACOBS  39.165655   \n",
      "4          FAILURE TO YIELD RIGHT OF WAY                  W 3RD  39.164848   \n",
      "\n",
      "   Longitude  \n",
      "0 -86.525874  \n",
      "1 -86.534848  \n",
      "2 -86.568890  \n",
      "3 -86.575956  \n",
      "4 -86.579625  \n"
     ]
    }
   ],
   "source": [
    "data_filepath = \"..\\\\dataset\\\\new dataset.xlsx\"\n",
    "df = pandas.read_excel(data_filepath)\n",
    "print(df.head())"
   ]
  },
  {
   "cell_type": "markdown",
   "metadata": {},
   "source": [
    "# Data Cleaning\n",
    "**Feature Selection**\n",
    "Provided columns are 'Year', 'Month', 'Day', 'Weekend?', 'Hour', 'Collision Type', 'Injury Type','Primary Factor', 'Reported_Location', 'Latitude', 'Longitude'.\n",
    "\n",
    "Considering we only care about when/where accidents happen, we can remove all features that don't give use insight into these two factors. That means we can remove the 'Collision Type', 'Injury Type', and 'Primary Factor' features. We can also remove 'Year' since we want this model to generalize for any years. In further versions of this model once could use the year, month, and date to determine the weather at the time of crash and factor this feature into the model.\n",
    "\n",
    "**Removing Rows with Empty Values**\n",
    "We will also drop any rows with empty values in the selected features"
   ]
  },
  {
   "cell_type": "code",
   "execution_count": 15,
   "metadata": {},
   "outputs": [
    {
     "name": "stdout",
     "output_type": "stream",
     "text": [
      "   Year  Month  Day Weekend?    Hour      Reported_Location   Latitude  \\\n",
      "0  2015      1    5  Weekday     0.0             1ST & FESS  39.159207   \n",
      "1  2015      1    6  Weekday  1500.0          2ND & COLLEGE  39.161440   \n",
      "2  2015      1    6  Weekend  2300.0  BASSWOOD & BLOOMFIELD  39.149780   \n",
      "3  2015      1    7  Weekend   900.0         GATES & JACOBS  39.165655   \n",
      "4  2015      1    7  Weekend  1100.0                  W 3RD  39.164848   \n",
      "\n",
      "   Longitude  \n",
      "0 -86.525874  \n",
      "1 -86.534848  \n",
      "2 -86.568890  \n",
      "3 -86.575956  \n",
      "4 -86.579625  \n"
     ]
    }
   ],
   "source": [
    "df = df.drop(columns=['Collision Type', 'Injury Type', 'Primary Factor', 'Year'])\n",
    "df = df.dropna()\n",
    "print(df.head())"
   ]
  },
  {
   "cell_type": "markdown",
   "metadata": {},
   "source": [
    "# Normalizing Data\n",
    "**Normalizing Hours**\n",
    "\n",
    "Disregarding decimal points, Hour values are currently 3-4 characters with the least significant 2 digits being minutes (always 00 in this dataset) and the remaining significant bits denoting hours. We will remove decimal point and remove minutes integers so that the only remaining number is what number hour it is (from 0 to 23)."
   ]
  },
  {
   "cell_type": "code",
   "execution_count": 16,
   "metadata": {},
   "outputs": [],
   "source": [
    "# We must normalize all values in hour column such that it is 4 integers indicating the format (HH:MM)\n",
    "df['Hour'] = df['Hour'].astype(int).astype(str).str.zfill(4)\n",
    "\n",
    "# get just the HH values (indicates which of the 24 buckets the value goes into)\n",
    "df['Hour'] = df['Hour'].str[:2].astype(int)"
   ]
  },
  {
   "cell_type": "code",
   "execution_count": 17,
   "metadata": {},
   "outputs": [],
   "source": [
    "df.to_csv('.\\\\modified_data\\\\cleaned_data.csv', index=False)"
   ]
  }
 ],
 "metadata": {
  "kernelspec": {
   "display_name": "ecs171",
   "language": "python",
   "name": "python3"
  },
  "language_info": {
   "codemirror_mode": {
    "name": "ipython",
    "version": 3
   },
   "file_extension": ".py",
   "mimetype": "text/x-python",
   "name": "python",
   "nbconvert_exporter": "python",
   "pygments_lexer": "ipython3",
   "version": "3.12.0"
  }
 },
 "nbformat": 4,
 "nbformat_minor": 2
}
